{
 "cells": [
  {
   "cell_type": "markdown",
   "metadata": {},
   "source": [
    "# R"
   ]
  },
  {
   "cell_type": "markdown",
   "metadata": {},
   "source": [
    "### R is a widely used statistical programming language. R works well with data, making it a great language for anyone interested in data analysis, data visualization, and data science."
   ]
  },
  {
   "cell_type": "markdown",
   "metadata": {},
   "source": [
    "## Print"
   ]
  },
  {
   "cell_type": "code",
   "execution_count": 3,
   "metadata": {},
   "outputs": [
    {
     "name": "stdout",
     "output_type": "stream",
     "text": [
      "[1] \"Hello Everyone, I am printing in R\"\n"
     ]
    }
   ],
   "source": [
    "print(\"Hello Everyone, I am printing in R\")"
   ]
  },
  {
   "cell_type": "markdown",
   "metadata": {},
   "source": [
    "## Calculation"
   ]
  },
  {
   "cell_type": "code",
   "execution_count": 1,
   "metadata": {},
   "outputs": [
    {
     "data": {
      "text/html": [
       "103"
      ],
      "text/latex": [
       "103"
      ],
      "text/markdown": [
       "103"
      ],
      "text/plain": [
       "[1] 103"
      ]
     },
     "metadata": {},
     "output_type": "display_data"
    }
   ],
   "source": [
    "25 * 4 + 9 /3"
   ]
  },
  {
   "cell_type": "code",
   "execution_count": 1,
   "metadata": {},
   "outputs": [
    {
     "data": {
      "text/html": [
       "60.6"
      ],
      "text/latex": [
       "60.6"
      ],
      "text/markdown": [
       "60.6"
      ],
      "text/plain": [
       "[1] 60.6"
      ]
     },
     "metadata": {},
     "output_type": "display_data"
    }
   ],
   "source": [
    "10 * 6 + (4 -1) /5"
   ]
  },
  {
   "cell_type": "markdown",
   "metadata": {},
   "source": [
    "## Comments"
   ]
  },
  {
   "cell_type": "code",
   "execution_count": 2,
   "metadata": {},
   "outputs": [],
   "source": [
    "#This is how you write a comment in R, just like Python"
   ]
  },
  {
   "cell_type": "markdown",
   "metadata": {},
   "source": [
    "## Variables\n",
    "#### Declaring variables in R is just like Python, but R programmers prefer to do it with arrow \"<-\""
   ]
  },
  {
   "cell_type": "code",
   "execution_count": null,
   "metadata": {},
   "outputs": [],
   "source": [
    "first_name <- \"Luke\"\n",
    "last_name <- \"Roy\"\n",
    "#Can also use \"=\", like Python as well\n",
    "first_name = \"John\"\n",
    "last_name = \"Smith\""
   ]
  },
  {
   "cell_type": "markdown",
   "metadata": {},
   "source": [
    "## Data Types"
   ]
  },
  {
   "cell_type": "markdown",
   "metadata": {},
   "source": [
    "#### R has 5 data types, which are classification we give to different kinds of information pieces.\n",
    "\n",
    "* Numeric - Any number with or without a decimal\n",
    "* Character - Any grouping of characters (letters, numbers, spaces, etc.)\n",
    "* Logical - Like Boolean (True or False)\n",
    "* Vectors - A list of related data that is all the same type\n",
    "* NA - Represents the absence of a value"
   ]
  },
  {
   "cell_type": "markdown",
   "metadata": {},
   "source": [
    "## Vectors\n",
    "#### Vectors are list-like structures that contain items of same data type"
   ]
  },
  {
   "cell_type": "code",
   "execution_count": 2,
   "metadata": {},
   "outputs": [],
   "source": [
    "winter_months <- c(\"December\",\"January\",\"February\")"
   ]
  },
  {
   "cell_type": "code",
   "execution_count": 3,
   "metadata": {},
   "outputs": [],
   "source": [
    "cars <- c(\"Buick\",\"Toyota\",\"Ford\")"
   ]
  },
  {
   "cell_type": "markdown",
   "metadata": {},
   "source": [
    "## Conditionals"
   ]
  },
  {
   "cell_type": "code",
   "execution_count": 4,
   "metadata": {},
   "outputs": [
    {
     "name": "stdout",
     "output_type": "stream",
     "text": [
      "[1] \"Hello, Everyone!\"\n"
     ]
    }
   ],
   "source": [
    "#Note \"TRUE\" is in all caps.\n",
    "if(TRUE) {\n",
    "    print(\"Hello, Everyone!\")\n",
    "} else {\n",
    "    print(\"This message won't print\")\n",
    "}\n"
   ]
  },
  {
   "cell_type": "markdown",
   "metadata": {},
   "source": [
    "## Comparison Operators"
   ]
  },
  {
   "cell_type": "markdown",
   "metadata": {},
   "source": [
    "#### The same as Python's\n",
    "* Less than: <\n",
    "* Greater than: >\n",
    "* Less than or equal to: <=\n",
    "* Greater than or equal to: >=\n",
    "* Is equal to: ==\n",
    "* Is NOT equal to: !="
   ]
  },
  {
   "cell_type": "markdown",
   "metadata": {},
   "source": [
    "## Logical Operators"
   ]
  },
  {
   "cell_type": "markdown",
   "metadata": {},
   "source": [
    "#### The same as Python's\n",
    "* the AND operator (&)\n",
    "* the OR operator (|)\n",
    "* the NOT operator, otherwise known as the bang operator (!)"
   ]
  },
  {
   "cell_type": "markdown",
   "metadata": {},
   "source": [
    "## Example - Loading Data into Data Frame"
   ]
  },
  {
   "cell_type": "code",
   "execution_count": 7,
   "metadata": {},
   "outputs": [
    {
     "name": "stderr",
     "output_type": "stream",
     "text": [
      "\n",
      "Attaching package: ‘dplyr’\n",
      "\n",
      "The following objects are masked from ‘package:stats’:\n",
      "\n",
      "    filter, lag\n",
      "\n",
      "The following objects are masked from ‘package:base’:\n",
      "\n",
      "    intersect, setdiff, setequal, union\n",
      "\n"
     ]
    }
   ],
   "source": [
    "#Import R packages, these are two of the main ones for data analysis\n",
    "library(readr)\n",
    "library(dplyr)"
   ]
  },
  {
   "cell_type": "code",
   "execution_count": 10,
   "metadata": {},
   "outputs": [
    {
     "name": "stderr",
     "output_type": "stream",
     "text": [
      "Parsed with column specification:\n",
      "cols(\n",
      "  Index = col_double(),\n",
      "  `Living Space (sq ft)` = col_double(),\n",
      "  Beds = col_double(),\n",
      "  Baths = col_double(),\n",
      "  Zip = col_double(),\n",
      "  Year = col_double(),\n",
      "  `List Price ($)` = col_double()\n",
      ")\n"
     ]
    }
   ],
   "source": [
    "#Load the data frame\n",
    "#CSV file in use represents housing data from houses in Tallahassee, FL\n",
    "zillow_data <- read_csv('/Users/luke/Downloads/zillow.csv') "
   ]
  },
  {
   "cell_type": "markdown",
   "metadata": {},
   "source": [
    "#### Inspect the data frame"
   ]
  },
  {
   "cell_type": "code",
   "execution_count": 13,
   "metadata": {
    "scrolled": true
   },
   "outputs": [
    {
     "data": {
      "text/html": [
       "<table>\n",
       "<thead><tr><th scope=col>Index</th><th scope=col>Living Space (sq ft)</th><th scope=col>Beds</th><th scope=col>Baths</th><th scope=col>Zip</th><th scope=col>Year</th><th scope=col>List Price ($)</th></tr></thead>\n",
       "<tbody>\n",
       "\t<tr><td> 1    </td><td>2222  </td><td>3     </td><td>3.5   </td><td>32312 </td><td>1981  </td><td>250000</td></tr>\n",
       "\t<tr><td> 2    </td><td>1628  </td><td>3     </td><td>2.0   </td><td>32308 </td><td>2009  </td><td>185000</td></tr>\n",
       "\t<tr><td> 3    </td><td>3824  </td><td>5     </td><td>4.0   </td><td>32312 </td><td>1954  </td><td>399000</td></tr>\n",
       "\t<tr><td> 4    </td><td>1137  </td><td>3     </td><td>2.0   </td><td>32309 </td><td>1993  </td><td>150000</td></tr>\n",
       "\t<tr><td> 5    </td><td>3560  </td><td>6     </td><td>4.0   </td><td>32309 </td><td>1973  </td><td>315000</td></tr>\n",
       "\t<tr><td> 6    </td><td>2893  </td><td>4     </td><td>3.0   </td><td>32312 </td><td>1994  </td><td>699000</td></tr>\n",
       "\t<tr><td> 7    </td><td>3631  </td><td>4     </td><td>3.0   </td><td>32309 </td><td>1996  </td><td>649000</td></tr>\n",
       "\t<tr><td> 8    </td><td>2483  </td><td>4     </td><td>3.0   </td><td>32312 </td><td>2016  </td><td>399000</td></tr>\n",
       "\t<tr><td> 9    </td><td>2400  </td><td>4     </td><td>4.0   </td><td>32312 </td><td>2002  </td><td>613000</td></tr>\n",
       "\t<tr><td>10    </td><td>1997  </td><td>3     </td><td>3.0   </td><td>32311 </td><td>2006  </td><td>295000</td></tr>\n",
       "\t<tr><td>11    </td><td>2097  </td><td>4     </td><td>3.0   </td><td>32311 </td><td>2016  </td><td>290000</td></tr>\n",
       "\t<tr><td>12    </td><td>3200  </td><td>5     </td><td>4.0   </td><td>32312 </td><td>1964  </td><td>465000</td></tr>\n",
       "\t<tr><td>13    </td><td>4892  </td><td>5     </td><td>6.0   </td><td>32311 </td><td>2005  </td><td>799900</td></tr>\n",
       "\t<tr><td>14    </td><td>1128  </td><td>2     </td><td>1.0   </td><td>32303 </td><td>1955  </td><td> 89000</td></tr>\n",
       "\t<tr><td>15    </td><td>1381  </td><td>3     </td><td>2.0   </td><td>32301 </td><td>2006  </td><td>143000</td></tr>\n",
       "\t<tr><td>16    </td><td>4242  </td><td>4     </td><td>5.0   </td><td>32303 </td><td>2007  </td><td>569000</td></tr>\n",
       "\t<tr><td>17    </td><td>2533  </td><td>3     </td><td>2.0   </td><td>32310 </td><td>1991  </td><td>365000</td></tr>\n",
       "\t<tr><td>18    </td><td>1158  </td><td>3     </td><td>2.0   </td><td>32303 </td><td>1993  </td><td>155000</td></tr>\n",
       "\t<tr><td>19    </td><td>2497  </td><td>4     </td><td>4.0   </td><td>32309 </td><td>1990  </td><td>289000</td></tr>\n",
       "\t<tr><td>20    </td><td>4010  </td><td>5     </td><td>3.0   </td><td>32309 </td><td>2002  </td><td>549900</td></tr>\n",
       "</tbody>\n",
       "</table>\n"
      ],
      "text/latex": [
       "\\begin{tabular}{r|lllllll}\n",
       " Index & Living Space (sq ft) & Beds & Baths & Zip & Year & List Price (\\$)\\\\\n",
       "\\hline\n",
       "\t  1     & 2222   & 3      & 3.5    & 32312  & 1981   & 250000\\\\\n",
       "\t  2     & 1628   & 3      & 2.0    & 32308  & 2009   & 185000\\\\\n",
       "\t  3     & 3824   & 5      & 4.0    & 32312  & 1954   & 399000\\\\\n",
       "\t  4     & 1137   & 3      & 2.0    & 32309  & 1993   & 150000\\\\\n",
       "\t  5     & 3560   & 6      & 4.0    & 32309  & 1973   & 315000\\\\\n",
       "\t  6     & 2893   & 4      & 3.0    & 32312  & 1994   & 699000\\\\\n",
       "\t  7     & 3631   & 4      & 3.0    & 32309  & 1996   & 649000\\\\\n",
       "\t  8     & 2483   & 4      & 3.0    & 32312  & 2016   & 399000\\\\\n",
       "\t  9     & 2400   & 4      & 4.0    & 32312  & 2002   & 613000\\\\\n",
       "\t 10     & 1997   & 3      & 3.0    & 32311  & 2006   & 295000\\\\\n",
       "\t 11     & 2097   & 4      & 3.0    & 32311  & 2016   & 290000\\\\\n",
       "\t 12     & 3200   & 5      & 4.0    & 32312  & 1964   & 465000\\\\\n",
       "\t 13     & 4892   & 5      & 6.0    & 32311  & 2005   & 799900\\\\\n",
       "\t 14     & 1128   & 2      & 1.0    & 32303  & 1955   &  89000\\\\\n",
       "\t 15     & 1381   & 3      & 2.0    & 32301  & 2006   & 143000\\\\\n",
       "\t 16     & 4242   & 4      & 5.0    & 32303  & 2007   & 569000\\\\\n",
       "\t 17     & 2533   & 3      & 2.0    & 32310  & 1991   & 365000\\\\\n",
       "\t 18     & 1158   & 3      & 2.0    & 32303  & 1993   & 155000\\\\\n",
       "\t 19     & 2497   & 4      & 4.0    & 32309  & 1990   & 289000\\\\\n",
       "\t 20     & 4010   & 5      & 3.0    & 32309  & 2002   & 549900\\\\\n",
       "\\end{tabular}\n"
      ],
      "text/markdown": [
       "\n",
       "| Index | Living Space (sq ft) | Beds | Baths | Zip | Year | List Price ($) |\n",
       "|---|---|---|---|---|---|---|\n",
       "|  1     | 2222   | 3      | 3.5    | 32312  | 1981   | 250000 |\n",
       "|  2     | 1628   | 3      | 2.0    | 32308  | 2009   | 185000 |\n",
       "|  3     | 3824   | 5      | 4.0    | 32312  | 1954   | 399000 |\n",
       "|  4     | 1137   | 3      | 2.0    | 32309  | 1993   | 150000 |\n",
       "|  5     | 3560   | 6      | 4.0    | 32309  | 1973   | 315000 |\n",
       "|  6     | 2893   | 4      | 3.0    | 32312  | 1994   | 699000 |\n",
       "|  7     | 3631   | 4      | 3.0    | 32309  | 1996   | 649000 |\n",
       "|  8     | 2483   | 4      | 3.0    | 32312  | 2016   | 399000 |\n",
       "|  9     | 2400   | 4      | 4.0    | 32312  | 2002   | 613000 |\n",
       "| 10     | 1997   | 3      | 3.0    | 32311  | 2006   | 295000 |\n",
       "| 11     | 2097   | 4      | 3.0    | 32311  | 2016   | 290000 |\n",
       "| 12     | 3200   | 5      | 4.0    | 32312  | 1964   | 465000 |\n",
       "| 13     | 4892   | 5      | 6.0    | 32311  | 2005   | 799900 |\n",
       "| 14     | 1128   | 2      | 1.0    | 32303  | 1955   |  89000 |\n",
       "| 15     | 1381   | 3      | 2.0    | 32301  | 2006   | 143000 |\n",
       "| 16     | 4242   | 4      | 5.0    | 32303  | 2007   | 569000 |\n",
       "| 17     | 2533   | 3      | 2.0    | 32310  | 1991   | 365000 |\n",
       "| 18     | 1158   | 3      | 2.0    | 32303  | 1993   | 155000 |\n",
       "| 19     | 2497   | 4      | 4.0    | 32309  | 1990   | 289000 |\n",
       "| 20     | 4010   | 5      | 3.0    | 32309  | 2002   | 549900 |\n",
       "\n"
      ],
      "text/plain": [
       "   Index Living Space (sq ft) Beds Baths Zip   Year List Price ($)\n",
       "1   1    2222                 3    3.5   32312 1981 250000        \n",
       "2   2    1628                 3    2.0   32308 2009 185000        \n",
       "3   3    3824                 5    4.0   32312 1954 399000        \n",
       "4   4    1137                 3    2.0   32309 1993 150000        \n",
       "5   5    3560                 6    4.0   32309 1973 315000        \n",
       "6   6    2893                 4    3.0   32312 1994 699000        \n",
       "7   7    3631                 4    3.0   32309 1996 649000        \n",
       "8   8    2483                 4    3.0   32312 2016 399000        \n",
       "9   9    2400                 4    4.0   32312 2002 613000        \n",
       "10 10    1997                 3    3.0   32311 2006 295000        \n",
       "11 11    2097                 4    3.0   32311 2016 290000        \n",
       "12 12    3200                 5    4.0   32312 1964 465000        \n",
       "13 13    4892                 5    6.0   32311 2005 799900        \n",
       "14 14    1128                 2    1.0   32303 1955  89000        \n",
       "15 15    1381                 3    2.0   32301 2006 143000        \n",
       "16 16    4242                 4    5.0   32303 2007 569000        \n",
       "17 17    2533                 3    2.0   32310 1991 365000        \n",
       "18 18    1158                 3    2.0   32303 1993 155000        \n",
       "19 19    2497                 4    4.0   32309 1990 289000        \n",
       "20 20    4010                 5    3.0   32309 2002 549900        "
      ]
     },
     "metadata": {},
     "output_type": "display_data"
    }
   ],
   "source": [
    "zillow_data"
   ]
  },
  {
   "cell_type": "code",
   "execution_count": 14,
   "metadata": {},
   "outputs": [
    {
     "data": {
      "text/html": [
       "<table>\n",
       "<thead><tr><th scope=col>Index</th><th scope=col>Living Space (sq ft)</th><th scope=col>Beds</th><th scope=col>Baths</th><th scope=col>Zip</th><th scope=col>Year</th><th scope=col>List Price ($)</th></tr></thead>\n",
       "<tbody>\n",
       "\t<tr><td>1     </td><td>2222  </td><td>3     </td><td>3.5   </td><td>32312 </td><td>1981  </td><td>250000</td></tr>\n",
       "\t<tr><td>2     </td><td>1628  </td><td>3     </td><td>2.0   </td><td>32308 </td><td>2009  </td><td>185000</td></tr>\n",
       "\t<tr><td>3     </td><td>3824  </td><td>5     </td><td>4.0   </td><td>32312 </td><td>1954  </td><td>399000</td></tr>\n",
       "\t<tr><td>4     </td><td>1137  </td><td>3     </td><td>2.0   </td><td>32309 </td><td>1993  </td><td>150000</td></tr>\n",
       "\t<tr><td>5     </td><td>3560  </td><td>6     </td><td>4.0   </td><td>32309 </td><td>1973  </td><td>315000</td></tr>\n",
       "\t<tr><td>6     </td><td>2893  </td><td>4     </td><td>3.0   </td><td>32312 </td><td>1994  </td><td>699000</td></tr>\n",
       "</tbody>\n",
       "</table>\n"
      ],
      "text/latex": [
       "\\begin{tabular}{r|lllllll}\n",
       " Index & Living Space (sq ft) & Beds & Baths & Zip & Year & List Price (\\$)\\\\\n",
       "\\hline\n",
       "\t 1      & 2222   & 3      & 3.5    & 32312  & 1981   & 250000\\\\\n",
       "\t 2      & 1628   & 3      & 2.0    & 32308  & 2009   & 185000\\\\\n",
       "\t 3      & 3824   & 5      & 4.0    & 32312  & 1954   & 399000\\\\\n",
       "\t 4      & 1137   & 3      & 2.0    & 32309  & 1993   & 150000\\\\\n",
       "\t 5      & 3560   & 6      & 4.0    & 32309  & 1973   & 315000\\\\\n",
       "\t 6      & 2893   & 4      & 3.0    & 32312  & 1994   & 699000\\\\\n",
       "\\end{tabular}\n"
      ],
      "text/markdown": [
       "\n",
       "| Index | Living Space (sq ft) | Beds | Baths | Zip | Year | List Price ($) |\n",
       "|---|---|---|---|---|---|---|\n",
       "| 1      | 2222   | 3      | 3.5    | 32312  | 1981   | 250000 |\n",
       "| 2      | 1628   | 3      | 2.0    | 32308  | 2009   | 185000 |\n",
       "| 3      | 3824   | 5      | 4.0    | 32312  | 1954   | 399000 |\n",
       "| 4      | 1137   | 3      | 2.0    | 32309  | 1993   | 150000 |\n",
       "| 5      | 3560   | 6      | 4.0    | 32309  | 1973   | 315000 |\n",
       "| 6      | 2893   | 4      | 3.0    | 32312  | 1994   | 699000 |\n",
       "\n"
      ],
      "text/plain": [
       "  Index Living Space (sq ft) Beds Baths Zip   Year List Price ($)\n",
       "1 1     2222                 3    3.5   32312 1981 250000        \n",
       "2 2     1628                 3    2.0   32308 2009 185000        \n",
       "3 3     3824                 5    4.0   32312 1954 399000        \n",
       "4 4     1137                 3    2.0   32309 1993 150000        \n",
       "5 5     3560                 6    4.0   32309 1973 315000        \n",
       "6 6     2893                 4    3.0   32312 1994 699000        "
      ]
     },
     "metadata": {},
     "output_type": "display_data"
    }
   ],
   "source": [
    "head(zillow_data)"
   ]
  },
  {
   "cell_type": "code",
   "execution_count": 15,
   "metadata": {},
   "outputs": [
    {
     "data": {
      "text/plain": [
       "     Index       Living Space (sq ft)      Beds          Baths      \n",
       " Min.   : 1.00   Min.   :1128         Min.   :2.00   Min.   :1.000  \n",
       " 1st Qu.: 5.75   1st Qu.:1905         1st Qu.:3.00   1st Qu.:2.000  \n",
       " Median :10.50   Median :2490         Median :4.00   Median :3.000  \n",
       " Mean   :10.50   Mean   :2646         Mean   :3.85   Mean   :3.175  \n",
       " 3rd Qu.:15.25   3rd Qu.:3578         3rd Qu.:4.25   3rd Qu.:4.000  \n",
       " Max.   :20.00   Max.   :4892         Max.   :6.00   Max.   :6.000  \n",
       "      Zip             Year      List Price ($)  \n",
       " Min.   :32301   Min.   :1954   Min.   : 89000  \n",
       " 1st Qu.:32309   1st Qu.:1988   1st Qu.:233750  \n",
       " Median :32310   Median :1995   Median :340000  \n",
       " Mean   :32309   Mean   :1993   Mean   :383440  \n",
       " 3rd Qu.:32312   3rd Qu.:2006   3rd Qu.:554675  \n",
       " Max.   :32312   Max.   :2016   Max.   :799900  "
      ]
     },
     "metadata": {},
     "output_type": "display_data"
    }
   ],
   "source": [
    "summary(zillow_data)"
   ]
  },
  {
   "cell_type": "markdown",
   "metadata": {},
   "source": [
    "#### Selecting columns, filtering and arranging rows of housing data"
   ]
  },
  {
   "cell_type": "code",
   "execution_count": 23,
   "metadata": {},
   "outputs": [
    {
     "data": {
      "text/html": [
       "<table>\n",
       "<thead><tr><th scope=col>Beds</th><th scope=col>Baths</th></tr></thead>\n",
       "<tbody>\n",
       "\t<tr><td>3  </td><td>3.5</td></tr>\n",
       "\t<tr><td>3  </td><td>2.0</td></tr>\n",
       "\t<tr><td>5  </td><td>4.0</td></tr>\n",
       "\t<tr><td>3  </td><td>2.0</td></tr>\n",
       "\t<tr><td>6  </td><td>4.0</td></tr>\n",
       "\t<tr><td>4  </td><td>3.0</td></tr>\n",
       "\t<tr><td>4  </td><td>3.0</td></tr>\n",
       "\t<tr><td>4  </td><td>3.0</td></tr>\n",
       "\t<tr><td>4  </td><td>4.0</td></tr>\n",
       "\t<tr><td>3  </td><td>3.0</td></tr>\n",
       "\t<tr><td>4  </td><td>3.0</td></tr>\n",
       "\t<tr><td>5  </td><td>4.0</td></tr>\n",
       "\t<tr><td>5  </td><td>6.0</td></tr>\n",
       "\t<tr><td>2  </td><td>1.0</td></tr>\n",
       "\t<tr><td>3  </td><td>2.0</td></tr>\n",
       "\t<tr><td>4  </td><td>5.0</td></tr>\n",
       "\t<tr><td>3  </td><td>2.0</td></tr>\n",
       "\t<tr><td>3  </td><td>2.0</td></tr>\n",
       "\t<tr><td>4  </td><td>4.0</td></tr>\n",
       "\t<tr><td>5  </td><td>3.0</td></tr>\n",
       "</tbody>\n",
       "</table>\n"
      ],
      "text/latex": [
       "\\begin{tabular}{r|ll}\n",
       " Beds & Baths\\\\\n",
       "\\hline\n",
       "\t 3   & 3.5\\\\\n",
       "\t 3   & 2.0\\\\\n",
       "\t 5   & 4.0\\\\\n",
       "\t 3   & 2.0\\\\\n",
       "\t 6   & 4.0\\\\\n",
       "\t 4   & 3.0\\\\\n",
       "\t 4   & 3.0\\\\\n",
       "\t 4   & 3.0\\\\\n",
       "\t 4   & 4.0\\\\\n",
       "\t 3   & 3.0\\\\\n",
       "\t 4   & 3.0\\\\\n",
       "\t 5   & 4.0\\\\\n",
       "\t 5   & 6.0\\\\\n",
       "\t 2   & 1.0\\\\\n",
       "\t 3   & 2.0\\\\\n",
       "\t 4   & 5.0\\\\\n",
       "\t 3   & 2.0\\\\\n",
       "\t 3   & 2.0\\\\\n",
       "\t 4   & 4.0\\\\\n",
       "\t 5   & 3.0\\\\\n",
       "\\end{tabular}\n"
      ],
      "text/markdown": [
       "\n",
       "| Beds | Baths |\n",
       "|---|---|\n",
       "| 3   | 3.5 |\n",
       "| 3   | 2.0 |\n",
       "| 5   | 4.0 |\n",
       "| 3   | 2.0 |\n",
       "| 6   | 4.0 |\n",
       "| 4   | 3.0 |\n",
       "| 4   | 3.0 |\n",
       "| 4   | 3.0 |\n",
       "| 4   | 4.0 |\n",
       "| 3   | 3.0 |\n",
       "| 4   | 3.0 |\n",
       "| 5   | 4.0 |\n",
       "| 5   | 6.0 |\n",
       "| 2   | 1.0 |\n",
       "| 3   | 2.0 |\n",
       "| 4   | 5.0 |\n",
       "| 3   | 2.0 |\n",
       "| 3   | 2.0 |\n",
       "| 4   | 4.0 |\n",
       "| 5   | 3.0 |\n",
       "\n"
      ],
      "text/plain": [
       "   Beds Baths\n",
       "1  3    3.5  \n",
       "2  3    2.0  \n",
       "3  5    4.0  \n",
       "4  3    2.0  \n",
       "5  6    4.0  \n",
       "6  4    3.0  \n",
       "7  4    3.0  \n",
       "8  4    3.0  \n",
       "9  4    4.0  \n",
       "10 3    3.0  \n",
       "11 4    3.0  \n",
       "12 5    4.0  \n",
       "13 5    6.0  \n",
       "14 2    1.0  \n",
       "15 3    2.0  \n",
       "16 4    5.0  \n",
       "17 3    2.0  \n",
       "18 3    2.0  \n",
       "19 4    4.0  \n",
       "20 5    3.0  "
      ]
     },
     "metadata": {},
     "output_type": "display_data"
    }
   ],
   "source": [
    "#Selecting columns\n",
    "select(zillow_data,Beds,Baths)"
   ]
  },
  {
   "cell_type": "code",
   "execution_count": 24,
   "metadata": {},
   "outputs": [
    {
     "data": {
      "text/html": [
       "<table>\n",
       "<thead><tr><th scope=col>Beds</th><th scope=col>Baths</th></tr></thead>\n",
       "<tbody>\n",
       "\t<tr><td>3  </td><td>3.5</td></tr>\n",
       "\t<tr><td>3  </td><td>2.0</td></tr>\n",
       "\t<tr><td>5  </td><td>4.0</td></tr>\n",
       "\t<tr><td>3  </td><td>2.0</td></tr>\n",
       "\t<tr><td>6  </td><td>4.0</td></tr>\n",
       "\t<tr><td>4  </td><td>3.0</td></tr>\n",
       "\t<tr><td>4  </td><td>3.0</td></tr>\n",
       "\t<tr><td>4  </td><td>3.0</td></tr>\n",
       "\t<tr><td>4  </td><td>4.0</td></tr>\n",
       "\t<tr><td>3  </td><td>3.0</td></tr>\n",
       "\t<tr><td>4  </td><td>3.0</td></tr>\n",
       "\t<tr><td>5  </td><td>4.0</td></tr>\n",
       "\t<tr><td>5  </td><td>6.0</td></tr>\n",
       "\t<tr><td>2  </td><td>1.0</td></tr>\n",
       "\t<tr><td>3  </td><td>2.0</td></tr>\n",
       "\t<tr><td>4  </td><td>5.0</td></tr>\n",
       "\t<tr><td>3  </td><td>2.0</td></tr>\n",
       "\t<tr><td>3  </td><td>2.0</td></tr>\n",
       "\t<tr><td>4  </td><td>4.0</td></tr>\n",
       "\t<tr><td>5  </td><td>3.0</td></tr>\n",
       "</tbody>\n",
       "</table>\n"
      ],
      "text/latex": [
       "\\begin{tabular}{r|ll}\n",
       " Beds & Baths\\\\\n",
       "\\hline\n",
       "\t 3   & 3.5\\\\\n",
       "\t 3   & 2.0\\\\\n",
       "\t 5   & 4.0\\\\\n",
       "\t 3   & 2.0\\\\\n",
       "\t 6   & 4.0\\\\\n",
       "\t 4   & 3.0\\\\\n",
       "\t 4   & 3.0\\\\\n",
       "\t 4   & 3.0\\\\\n",
       "\t 4   & 4.0\\\\\n",
       "\t 3   & 3.0\\\\\n",
       "\t 4   & 3.0\\\\\n",
       "\t 5   & 4.0\\\\\n",
       "\t 5   & 6.0\\\\\n",
       "\t 2   & 1.0\\\\\n",
       "\t 3   & 2.0\\\\\n",
       "\t 4   & 5.0\\\\\n",
       "\t 3   & 2.0\\\\\n",
       "\t 3   & 2.0\\\\\n",
       "\t 4   & 4.0\\\\\n",
       "\t 5   & 3.0\\\\\n",
       "\\end{tabular}\n"
      ],
      "text/markdown": [
       "\n",
       "| Beds | Baths |\n",
       "|---|---|\n",
       "| 3   | 3.5 |\n",
       "| 3   | 2.0 |\n",
       "| 5   | 4.0 |\n",
       "| 3   | 2.0 |\n",
       "| 6   | 4.0 |\n",
       "| 4   | 3.0 |\n",
       "| 4   | 3.0 |\n",
       "| 4   | 3.0 |\n",
       "| 4   | 4.0 |\n",
       "| 3   | 3.0 |\n",
       "| 4   | 3.0 |\n",
       "| 5   | 4.0 |\n",
       "| 5   | 6.0 |\n",
       "| 2   | 1.0 |\n",
       "| 3   | 2.0 |\n",
       "| 4   | 5.0 |\n",
       "| 3   | 2.0 |\n",
       "| 3   | 2.0 |\n",
       "| 4   | 4.0 |\n",
       "| 5   | 3.0 |\n",
       "\n"
      ],
      "text/plain": [
       "   Beds Baths\n",
       "1  3    3.5  \n",
       "2  3    2.0  \n",
       "3  5    4.0  \n",
       "4  3    2.0  \n",
       "5  6    4.0  \n",
       "6  4    3.0  \n",
       "7  4    3.0  \n",
       "8  4    3.0  \n",
       "9  4    4.0  \n",
       "10 3    3.0  \n",
       "11 4    3.0  \n",
       "12 5    4.0  \n",
       "13 5    6.0  \n",
       "14 2    1.0  \n",
       "15 3    2.0  \n",
       "16 4    5.0  \n",
       "17 3    2.0  \n",
       "18 3    2.0  \n",
       "19 4    4.0  \n",
       "20 5    3.0  "
      ]
     },
     "metadata": {},
     "output_type": "display_data"
    }
   ],
   "source": [
    "#using a \"pipe\" with select statement\n",
    "zillow_data %>% select(Beds,Baths)"
   ]
  },
  {
   "cell_type": "code",
   "execution_count": 25,
   "metadata": {},
   "outputs": [],
   "source": [
    "Bed_and_Bath_Info <- zillow_data %>% select(Beds,Baths)"
   ]
  },
  {
   "cell_type": "code",
   "execution_count": 26,
   "metadata": {},
   "outputs": [
    {
     "data": {
      "text/html": [
       "<table>\n",
       "<thead><tr><th scope=col>Index</th><th scope=col>Living Space (sq ft)</th><th scope=col>Zip</th><th scope=col>Year</th><th scope=col>List Price ($)</th></tr></thead>\n",
       "<tbody>\n",
       "\t<tr><td> 1    </td><td>2222  </td><td>32312 </td><td>1981  </td><td>250000</td></tr>\n",
       "\t<tr><td> 2    </td><td>1628  </td><td>32308 </td><td>2009  </td><td>185000</td></tr>\n",
       "\t<tr><td> 3    </td><td>3824  </td><td>32312 </td><td>1954  </td><td>399000</td></tr>\n",
       "\t<tr><td> 4    </td><td>1137  </td><td>32309 </td><td>1993  </td><td>150000</td></tr>\n",
       "\t<tr><td> 5    </td><td>3560  </td><td>32309 </td><td>1973  </td><td>315000</td></tr>\n",
       "\t<tr><td> 6    </td><td>2893  </td><td>32312 </td><td>1994  </td><td>699000</td></tr>\n",
       "\t<tr><td> 7    </td><td>3631  </td><td>32309 </td><td>1996  </td><td>649000</td></tr>\n",
       "\t<tr><td> 8    </td><td>2483  </td><td>32312 </td><td>2016  </td><td>399000</td></tr>\n",
       "\t<tr><td> 9    </td><td>2400  </td><td>32312 </td><td>2002  </td><td>613000</td></tr>\n",
       "\t<tr><td>10    </td><td>1997  </td><td>32311 </td><td>2006  </td><td>295000</td></tr>\n",
       "\t<tr><td>11    </td><td>2097  </td><td>32311 </td><td>2016  </td><td>290000</td></tr>\n",
       "\t<tr><td>12    </td><td>3200  </td><td>32312 </td><td>1964  </td><td>465000</td></tr>\n",
       "\t<tr><td>13    </td><td>4892  </td><td>32311 </td><td>2005  </td><td>799900</td></tr>\n",
       "\t<tr><td>14    </td><td>1128  </td><td>32303 </td><td>1955  </td><td> 89000</td></tr>\n",
       "\t<tr><td>15    </td><td>1381  </td><td>32301 </td><td>2006  </td><td>143000</td></tr>\n",
       "\t<tr><td>16    </td><td>4242  </td><td>32303 </td><td>2007  </td><td>569000</td></tr>\n",
       "\t<tr><td>17    </td><td>2533  </td><td>32310 </td><td>1991  </td><td>365000</td></tr>\n",
       "\t<tr><td>18    </td><td>1158  </td><td>32303 </td><td>1993  </td><td>155000</td></tr>\n",
       "\t<tr><td>19    </td><td>2497  </td><td>32309 </td><td>1990  </td><td>289000</td></tr>\n",
       "\t<tr><td>20    </td><td>4010  </td><td>32309 </td><td>2002  </td><td>549900</td></tr>\n",
       "</tbody>\n",
       "</table>\n"
      ],
      "text/latex": [
       "\\begin{tabular}{r|lllll}\n",
       " Index & Living Space (sq ft) & Zip & Year & List Price (\\$)\\\\\n",
       "\\hline\n",
       "\t  1     & 2222   & 32312  & 1981   & 250000\\\\\n",
       "\t  2     & 1628   & 32308  & 2009   & 185000\\\\\n",
       "\t  3     & 3824   & 32312  & 1954   & 399000\\\\\n",
       "\t  4     & 1137   & 32309  & 1993   & 150000\\\\\n",
       "\t  5     & 3560   & 32309  & 1973   & 315000\\\\\n",
       "\t  6     & 2893   & 32312  & 1994   & 699000\\\\\n",
       "\t  7     & 3631   & 32309  & 1996   & 649000\\\\\n",
       "\t  8     & 2483   & 32312  & 2016   & 399000\\\\\n",
       "\t  9     & 2400   & 32312  & 2002   & 613000\\\\\n",
       "\t 10     & 1997   & 32311  & 2006   & 295000\\\\\n",
       "\t 11     & 2097   & 32311  & 2016   & 290000\\\\\n",
       "\t 12     & 3200   & 32312  & 1964   & 465000\\\\\n",
       "\t 13     & 4892   & 32311  & 2005   & 799900\\\\\n",
       "\t 14     & 1128   & 32303  & 1955   &  89000\\\\\n",
       "\t 15     & 1381   & 32301  & 2006   & 143000\\\\\n",
       "\t 16     & 4242   & 32303  & 2007   & 569000\\\\\n",
       "\t 17     & 2533   & 32310  & 1991   & 365000\\\\\n",
       "\t 18     & 1158   & 32303  & 1993   & 155000\\\\\n",
       "\t 19     & 2497   & 32309  & 1990   & 289000\\\\\n",
       "\t 20     & 4010   & 32309  & 2002   & 549900\\\\\n",
       "\\end{tabular}\n"
      ],
      "text/markdown": [
       "\n",
       "| Index | Living Space (sq ft) | Zip | Year | List Price ($) |\n",
       "|---|---|---|---|---|\n",
       "|  1     | 2222   | 32312  | 1981   | 250000 |\n",
       "|  2     | 1628   | 32308  | 2009   | 185000 |\n",
       "|  3     | 3824   | 32312  | 1954   | 399000 |\n",
       "|  4     | 1137   | 32309  | 1993   | 150000 |\n",
       "|  5     | 3560   | 32309  | 1973   | 315000 |\n",
       "|  6     | 2893   | 32312  | 1994   | 699000 |\n",
       "|  7     | 3631   | 32309  | 1996   | 649000 |\n",
       "|  8     | 2483   | 32312  | 2016   | 399000 |\n",
       "|  9     | 2400   | 32312  | 2002   | 613000 |\n",
       "| 10     | 1997   | 32311  | 2006   | 295000 |\n",
       "| 11     | 2097   | 32311  | 2016   | 290000 |\n",
       "| 12     | 3200   | 32312  | 1964   | 465000 |\n",
       "| 13     | 4892   | 32311  | 2005   | 799900 |\n",
       "| 14     | 1128   | 32303  | 1955   |  89000 |\n",
       "| 15     | 1381   | 32301  | 2006   | 143000 |\n",
       "| 16     | 4242   | 32303  | 2007   | 569000 |\n",
       "| 17     | 2533   | 32310  | 1991   | 365000 |\n",
       "| 18     | 1158   | 32303  | 1993   | 155000 |\n",
       "| 19     | 2497   | 32309  | 1990   | 289000 |\n",
       "| 20     | 4010   | 32309  | 2002   | 549900 |\n",
       "\n"
      ],
      "text/plain": [
       "   Index Living Space (sq ft) Zip   Year List Price ($)\n",
       "1   1    2222                 32312 1981 250000        \n",
       "2   2    1628                 32308 2009 185000        \n",
       "3   3    3824                 32312 1954 399000        \n",
       "4   4    1137                 32309 1993 150000        \n",
       "5   5    3560                 32309 1973 315000        \n",
       "6   6    2893                 32312 1994 699000        \n",
       "7   7    3631                 32309 1996 649000        \n",
       "8   8    2483                 32312 2016 399000        \n",
       "9   9    2400                 32312 2002 613000        \n",
       "10 10    1997                 32311 2006 295000        \n",
       "11 11    2097                 32311 2016 290000        \n",
       "12 12    3200                 32312 1964 465000        \n",
       "13 13    4892                 32311 2005 799900        \n",
       "14 14    1128                 32303 1955  89000        \n",
       "15 15    1381                 32301 2006 143000        \n",
       "16 16    4242                 32303 2007 569000        \n",
       "17 17    2533                 32310 1991 365000        \n",
       "18 18    1158                 32303 1993 155000        \n",
       "19 19    2497                 32309 1990 289000        \n",
       "20 20    4010                 32309 2002 549900        "
      ]
     },
     "metadata": {},
     "output_type": "display_data"
    }
   ],
   "source": [
    "#Exclude columns\n",
    "select(zillow_data,-Beds,-Baths)"
   ]
  },
  {
   "cell_type": "code",
   "execution_count": 36,
   "metadata": {},
   "outputs": [],
   "source": [
    "#filter rows\n",
    "#find houses that have 4 or more beds and were built after 1990.\n",
    "filtered_houses <- filter(zillow_data, Beds >= \"4\", Year > \"1990\")"
   ]
  },
  {
   "cell_type": "code",
   "execution_count": 37,
   "metadata": {},
   "outputs": [
    {
     "data": {
      "text/html": [
       "<table>\n",
       "<thead><tr><th scope=col>Index</th><th scope=col>Living Space (sq ft)</th><th scope=col>Beds</th><th scope=col>Baths</th><th scope=col>Zip</th><th scope=col>Year</th><th scope=col>List Price ($)</th></tr></thead>\n",
       "<tbody>\n",
       "\t<tr><td> 6    </td><td>2893  </td><td>4     </td><td>3     </td><td>32312 </td><td>1994  </td><td>699000</td></tr>\n",
       "\t<tr><td> 7    </td><td>3631  </td><td>4     </td><td>3     </td><td>32309 </td><td>1996  </td><td>649000</td></tr>\n",
       "\t<tr><td> 8    </td><td>2483  </td><td>4     </td><td>3     </td><td>32312 </td><td>2016  </td><td>399000</td></tr>\n",
       "\t<tr><td> 9    </td><td>2400  </td><td>4     </td><td>4     </td><td>32312 </td><td>2002  </td><td>613000</td></tr>\n",
       "\t<tr><td>11    </td><td>2097  </td><td>4     </td><td>3     </td><td>32311 </td><td>2016  </td><td>290000</td></tr>\n",
       "\t<tr><td>13    </td><td>4892  </td><td>5     </td><td>6     </td><td>32311 </td><td>2005  </td><td>799900</td></tr>\n",
       "\t<tr><td>16    </td><td>4242  </td><td>4     </td><td>5     </td><td>32303 </td><td>2007  </td><td>569000</td></tr>\n",
       "\t<tr><td>20    </td><td>4010  </td><td>5     </td><td>3     </td><td>32309 </td><td>2002  </td><td>549900</td></tr>\n",
       "</tbody>\n",
       "</table>\n"
      ],
      "text/latex": [
       "\\begin{tabular}{r|lllllll}\n",
       " Index & Living Space (sq ft) & Beds & Baths & Zip & Year & List Price (\\$)\\\\\n",
       "\\hline\n",
       "\t  6     & 2893   & 4      & 3      & 32312  & 1994   & 699000\\\\\n",
       "\t  7     & 3631   & 4      & 3      & 32309  & 1996   & 649000\\\\\n",
       "\t  8     & 2483   & 4      & 3      & 32312  & 2016   & 399000\\\\\n",
       "\t  9     & 2400   & 4      & 4      & 32312  & 2002   & 613000\\\\\n",
       "\t 11     & 2097   & 4      & 3      & 32311  & 2016   & 290000\\\\\n",
       "\t 13     & 4892   & 5      & 6      & 32311  & 2005   & 799900\\\\\n",
       "\t 16     & 4242   & 4      & 5      & 32303  & 2007   & 569000\\\\\n",
       "\t 20     & 4010   & 5      & 3      & 32309  & 2002   & 549900\\\\\n",
       "\\end{tabular}\n"
      ],
      "text/markdown": [
       "\n",
       "| Index | Living Space (sq ft) | Beds | Baths | Zip | Year | List Price ($) |\n",
       "|---|---|---|---|---|---|---|\n",
       "|  6     | 2893   | 4      | 3      | 32312  | 1994   | 699000 |\n",
       "|  7     | 3631   | 4      | 3      | 32309  | 1996   | 649000 |\n",
       "|  8     | 2483   | 4      | 3      | 32312  | 2016   | 399000 |\n",
       "|  9     | 2400   | 4      | 4      | 32312  | 2002   | 613000 |\n",
       "| 11     | 2097   | 4      | 3      | 32311  | 2016   | 290000 |\n",
       "| 13     | 4892   | 5      | 6      | 32311  | 2005   | 799900 |\n",
       "| 16     | 4242   | 4      | 5      | 32303  | 2007   | 569000 |\n",
       "| 20     | 4010   | 5      | 3      | 32309  | 2002   | 549900 |\n",
       "\n"
      ],
      "text/plain": [
       "  Index Living Space (sq ft) Beds Baths Zip   Year List Price ($)\n",
       "1  6    2893                 4    3     32312 1994 699000        \n",
       "2  7    3631                 4    3     32309 1996 649000        \n",
       "3  8    2483                 4    3     32312 2016 399000        \n",
       "4  9    2400                 4    4     32312 2002 613000        \n",
       "5 11    2097                 4    3     32311 2016 290000        \n",
       "6 13    4892                 5    6     32311 2005 799900        \n",
       "7 16    4242                 4    5     32303 2007 569000        \n",
       "8 20    4010                 5    3     32309 2002 549900        "
      ]
     },
     "metadata": {},
     "output_type": "display_data"
    }
   ],
   "source": [
    "filtered_houses"
   ]
  },
  {
   "cell_type": "code",
   "execution_count": 38,
   "metadata": {},
   "outputs": [
    {
     "data": {
      "text/html": [
       "<table>\n",
       "<thead><tr><th scope=col>Index</th><th scope=col>Living Space (sq ft)</th><th scope=col>Beds</th><th scope=col>Baths</th><th scope=col>Zip</th><th scope=col>Year</th><th scope=col>List Price ($)</th></tr></thead>\n",
       "<tbody>\n",
       "\t<tr><td> 3    </td><td>3824  </td><td>5     </td><td>4.0   </td><td>32312 </td><td>1954  </td><td>399000</td></tr>\n",
       "\t<tr><td>14    </td><td>1128  </td><td>2     </td><td>1.0   </td><td>32303 </td><td>1955  </td><td> 89000</td></tr>\n",
       "\t<tr><td>12    </td><td>3200  </td><td>5     </td><td>4.0   </td><td>32312 </td><td>1964  </td><td>465000</td></tr>\n",
       "\t<tr><td> 5    </td><td>3560  </td><td>6     </td><td>4.0   </td><td>32309 </td><td>1973  </td><td>315000</td></tr>\n",
       "\t<tr><td> 1    </td><td>2222  </td><td>3     </td><td>3.5   </td><td>32312 </td><td>1981  </td><td>250000</td></tr>\n",
       "\t<tr><td>19    </td><td>2497  </td><td>4     </td><td>4.0   </td><td>32309 </td><td>1990  </td><td>289000</td></tr>\n",
       "\t<tr><td>17    </td><td>2533  </td><td>3     </td><td>2.0   </td><td>32310 </td><td>1991  </td><td>365000</td></tr>\n",
       "\t<tr><td> 4    </td><td>1137  </td><td>3     </td><td>2.0   </td><td>32309 </td><td>1993  </td><td>150000</td></tr>\n",
       "\t<tr><td>18    </td><td>1158  </td><td>3     </td><td>2.0   </td><td>32303 </td><td>1993  </td><td>155000</td></tr>\n",
       "\t<tr><td> 6    </td><td>2893  </td><td>4     </td><td>3.0   </td><td>32312 </td><td>1994  </td><td>699000</td></tr>\n",
       "\t<tr><td> 7    </td><td>3631  </td><td>4     </td><td>3.0   </td><td>32309 </td><td>1996  </td><td>649000</td></tr>\n",
       "\t<tr><td> 9    </td><td>2400  </td><td>4     </td><td>4.0   </td><td>32312 </td><td>2002  </td><td>613000</td></tr>\n",
       "\t<tr><td>20    </td><td>4010  </td><td>5     </td><td>3.0   </td><td>32309 </td><td>2002  </td><td>549900</td></tr>\n",
       "\t<tr><td>13    </td><td>4892  </td><td>5     </td><td>6.0   </td><td>32311 </td><td>2005  </td><td>799900</td></tr>\n",
       "\t<tr><td>10    </td><td>1997  </td><td>3     </td><td>3.0   </td><td>32311 </td><td>2006  </td><td>295000</td></tr>\n",
       "\t<tr><td>15    </td><td>1381  </td><td>3     </td><td>2.0   </td><td>32301 </td><td>2006  </td><td>143000</td></tr>\n",
       "\t<tr><td>16    </td><td>4242  </td><td>4     </td><td>5.0   </td><td>32303 </td><td>2007  </td><td>569000</td></tr>\n",
       "\t<tr><td> 2    </td><td>1628  </td><td>3     </td><td>2.0   </td><td>32308 </td><td>2009  </td><td>185000</td></tr>\n",
       "\t<tr><td> 8    </td><td>2483  </td><td>4     </td><td>3.0   </td><td>32312 </td><td>2016  </td><td>399000</td></tr>\n",
       "\t<tr><td>11    </td><td>2097  </td><td>4     </td><td>3.0   </td><td>32311 </td><td>2016  </td><td>290000</td></tr>\n",
       "</tbody>\n",
       "</table>\n"
      ],
      "text/latex": [
       "\\begin{tabular}{r|lllllll}\n",
       " Index & Living Space (sq ft) & Beds & Baths & Zip & Year & List Price (\\$)\\\\\n",
       "\\hline\n",
       "\t  3     & 3824   & 5      & 4.0    & 32312  & 1954   & 399000\\\\\n",
       "\t 14     & 1128   & 2      & 1.0    & 32303  & 1955   &  89000\\\\\n",
       "\t 12     & 3200   & 5      & 4.0    & 32312  & 1964   & 465000\\\\\n",
       "\t  5     & 3560   & 6      & 4.0    & 32309  & 1973   & 315000\\\\\n",
       "\t  1     & 2222   & 3      & 3.5    & 32312  & 1981   & 250000\\\\\n",
       "\t 19     & 2497   & 4      & 4.0    & 32309  & 1990   & 289000\\\\\n",
       "\t 17     & 2533   & 3      & 2.0    & 32310  & 1991   & 365000\\\\\n",
       "\t  4     & 1137   & 3      & 2.0    & 32309  & 1993   & 150000\\\\\n",
       "\t 18     & 1158   & 3      & 2.0    & 32303  & 1993   & 155000\\\\\n",
       "\t  6     & 2893   & 4      & 3.0    & 32312  & 1994   & 699000\\\\\n",
       "\t  7     & 3631   & 4      & 3.0    & 32309  & 1996   & 649000\\\\\n",
       "\t  9     & 2400   & 4      & 4.0    & 32312  & 2002   & 613000\\\\\n",
       "\t 20     & 4010   & 5      & 3.0    & 32309  & 2002   & 549900\\\\\n",
       "\t 13     & 4892   & 5      & 6.0    & 32311  & 2005   & 799900\\\\\n",
       "\t 10     & 1997   & 3      & 3.0    & 32311  & 2006   & 295000\\\\\n",
       "\t 15     & 1381   & 3      & 2.0    & 32301  & 2006   & 143000\\\\\n",
       "\t 16     & 4242   & 4      & 5.0    & 32303  & 2007   & 569000\\\\\n",
       "\t  2     & 1628   & 3      & 2.0    & 32308  & 2009   & 185000\\\\\n",
       "\t  8     & 2483   & 4      & 3.0    & 32312  & 2016   & 399000\\\\\n",
       "\t 11     & 2097   & 4      & 3.0    & 32311  & 2016   & 290000\\\\\n",
       "\\end{tabular}\n"
      ],
      "text/markdown": [
       "\n",
       "| Index | Living Space (sq ft) | Beds | Baths | Zip | Year | List Price ($) |\n",
       "|---|---|---|---|---|---|---|\n",
       "|  3     | 3824   | 5      | 4.0    | 32312  | 1954   | 399000 |\n",
       "| 14     | 1128   | 2      | 1.0    | 32303  | 1955   |  89000 |\n",
       "| 12     | 3200   | 5      | 4.0    | 32312  | 1964   | 465000 |\n",
       "|  5     | 3560   | 6      | 4.0    | 32309  | 1973   | 315000 |\n",
       "|  1     | 2222   | 3      | 3.5    | 32312  | 1981   | 250000 |\n",
       "| 19     | 2497   | 4      | 4.0    | 32309  | 1990   | 289000 |\n",
       "| 17     | 2533   | 3      | 2.0    | 32310  | 1991   | 365000 |\n",
       "|  4     | 1137   | 3      | 2.0    | 32309  | 1993   | 150000 |\n",
       "| 18     | 1158   | 3      | 2.0    | 32303  | 1993   | 155000 |\n",
       "|  6     | 2893   | 4      | 3.0    | 32312  | 1994   | 699000 |\n",
       "|  7     | 3631   | 4      | 3.0    | 32309  | 1996   | 649000 |\n",
       "|  9     | 2400   | 4      | 4.0    | 32312  | 2002   | 613000 |\n",
       "| 20     | 4010   | 5      | 3.0    | 32309  | 2002   | 549900 |\n",
       "| 13     | 4892   | 5      | 6.0    | 32311  | 2005   | 799900 |\n",
       "| 10     | 1997   | 3      | 3.0    | 32311  | 2006   | 295000 |\n",
       "| 15     | 1381   | 3      | 2.0    | 32301  | 2006   | 143000 |\n",
       "| 16     | 4242   | 4      | 5.0    | 32303  | 2007   | 569000 |\n",
       "|  2     | 1628   | 3      | 2.0    | 32308  | 2009   | 185000 |\n",
       "|  8     | 2483   | 4      | 3.0    | 32312  | 2016   | 399000 |\n",
       "| 11     | 2097   | 4      | 3.0    | 32311  | 2016   | 290000 |\n",
       "\n"
      ],
      "text/plain": [
       "   Index Living Space (sq ft) Beds Baths Zip   Year List Price ($)\n",
       "1   3    3824                 5    4.0   32312 1954 399000        \n",
       "2  14    1128                 2    1.0   32303 1955  89000        \n",
       "3  12    3200                 5    4.0   32312 1964 465000        \n",
       "4   5    3560                 6    4.0   32309 1973 315000        \n",
       "5   1    2222                 3    3.5   32312 1981 250000        \n",
       "6  19    2497                 4    4.0   32309 1990 289000        \n",
       "7  17    2533                 3    2.0   32310 1991 365000        \n",
       "8   4    1137                 3    2.0   32309 1993 150000        \n",
       "9  18    1158                 3    2.0   32303 1993 155000        \n",
       "10  6    2893                 4    3.0   32312 1994 699000        \n",
       "11  7    3631                 4    3.0   32309 1996 649000        \n",
       "12  9    2400                 4    4.0   32312 2002 613000        \n",
       "13 20    4010                 5    3.0   32309 2002 549900        \n",
       "14 13    4892                 5    6.0   32311 2005 799900        \n",
       "15 10    1997                 3    3.0   32311 2006 295000        \n",
       "16 15    1381                 3    2.0   32301 2006 143000        \n",
       "17 16    4242                 4    5.0   32303 2007 569000        \n",
       "18  2    1628                 3    2.0   32308 2009 185000        \n",
       "19  8    2483                 4    3.0   32312 2016 399000        \n",
       "20 11    2097                 4    3.0   32311 2016 290000        "
      ]
     },
     "metadata": {},
     "output_type": "display_data"
    }
   ],
   "source": [
    "#arranging rows\n",
    "#arrange Year by Ascending Order\n",
    "zillow_data %>% arrange(Year)"
   ]
  },
  {
   "cell_type": "code",
   "execution_count": 39,
   "metadata": {},
   "outputs": [
    {
     "data": {
      "text/html": [
       "<table>\n",
       "<thead><tr><th scope=col>Index</th><th scope=col>Living Space (sq ft)</th><th scope=col>Beds</th><th scope=col>Baths</th><th scope=col>Zip</th><th scope=col>Year</th><th scope=col>List Price ($)</th></tr></thead>\n",
       "<tbody>\n",
       "\t<tr><td> 8    </td><td>2483  </td><td>4     </td><td>3.0   </td><td>32312 </td><td>2016  </td><td>399000</td></tr>\n",
       "\t<tr><td>11    </td><td>2097  </td><td>4     </td><td>3.0   </td><td>32311 </td><td>2016  </td><td>290000</td></tr>\n",
       "\t<tr><td> 2    </td><td>1628  </td><td>3     </td><td>2.0   </td><td>32308 </td><td>2009  </td><td>185000</td></tr>\n",
       "\t<tr><td>16    </td><td>4242  </td><td>4     </td><td>5.0   </td><td>32303 </td><td>2007  </td><td>569000</td></tr>\n",
       "\t<tr><td>10    </td><td>1997  </td><td>3     </td><td>3.0   </td><td>32311 </td><td>2006  </td><td>295000</td></tr>\n",
       "\t<tr><td>15    </td><td>1381  </td><td>3     </td><td>2.0   </td><td>32301 </td><td>2006  </td><td>143000</td></tr>\n",
       "\t<tr><td>13    </td><td>4892  </td><td>5     </td><td>6.0   </td><td>32311 </td><td>2005  </td><td>799900</td></tr>\n",
       "\t<tr><td> 9    </td><td>2400  </td><td>4     </td><td>4.0   </td><td>32312 </td><td>2002  </td><td>613000</td></tr>\n",
       "\t<tr><td>20    </td><td>4010  </td><td>5     </td><td>3.0   </td><td>32309 </td><td>2002  </td><td>549900</td></tr>\n",
       "\t<tr><td> 7    </td><td>3631  </td><td>4     </td><td>3.0   </td><td>32309 </td><td>1996  </td><td>649000</td></tr>\n",
       "\t<tr><td> 6    </td><td>2893  </td><td>4     </td><td>3.0   </td><td>32312 </td><td>1994  </td><td>699000</td></tr>\n",
       "\t<tr><td> 4    </td><td>1137  </td><td>3     </td><td>2.0   </td><td>32309 </td><td>1993  </td><td>150000</td></tr>\n",
       "\t<tr><td>18    </td><td>1158  </td><td>3     </td><td>2.0   </td><td>32303 </td><td>1993  </td><td>155000</td></tr>\n",
       "\t<tr><td>17    </td><td>2533  </td><td>3     </td><td>2.0   </td><td>32310 </td><td>1991  </td><td>365000</td></tr>\n",
       "\t<tr><td>19    </td><td>2497  </td><td>4     </td><td>4.0   </td><td>32309 </td><td>1990  </td><td>289000</td></tr>\n",
       "\t<tr><td> 1    </td><td>2222  </td><td>3     </td><td>3.5   </td><td>32312 </td><td>1981  </td><td>250000</td></tr>\n",
       "\t<tr><td> 5    </td><td>3560  </td><td>6     </td><td>4.0   </td><td>32309 </td><td>1973  </td><td>315000</td></tr>\n",
       "\t<tr><td>12    </td><td>3200  </td><td>5     </td><td>4.0   </td><td>32312 </td><td>1964  </td><td>465000</td></tr>\n",
       "\t<tr><td>14    </td><td>1128  </td><td>2     </td><td>1.0   </td><td>32303 </td><td>1955  </td><td> 89000</td></tr>\n",
       "\t<tr><td> 3    </td><td>3824  </td><td>5     </td><td>4.0   </td><td>32312 </td><td>1954  </td><td>399000</td></tr>\n",
       "</tbody>\n",
       "</table>\n"
      ],
      "text/latex": [
       "\\begin{tabular}{r|lllllll}\n",
       " Index & Living Space (sq ft) & Beds & Baths & Zip & Year & List Price (\\$)\\\\\n",
       "\\hline\n",
       "\t  8     & 2483   & 4      & 3.0    & 32312  & 2016   & 399000\\\\\n",
       "\t 11     & 2097   & 4      & 3.0    & 32311  & 2016   & 290000\\\\\n",
       "\t  2     & 1628   & 3      & 2.0    & 32308  & 2009   & 185000\\\\\n",
       "\t 16     & 4242   & 4      & 5.0    & 32303  & 2007   & 569000\\\\\n",
       "\t 10     & 1997   & 3      & 3.0    & 32311  & 2006   & 295000\\\\\n",
       "\t 15     & 1381   & 3      & 2.0    & 32301  & 2006   & 143000\\\\\n",
       "\t 13     & 4892   & 5      & 6.0    & 32311  & 2005   & 799900\\\\\n",
       "\t  9     & 2400   & 4      & 4.0    & 32312  & 2002   & 613000\\\\\n",
       "\t 20     & 4010   & 5      & 3.0    & 32309  & 2002   & 549900\\\\\n",
       "\t  7     & 3631   & 4      & 3.0    & 32309  & 1996   & 649000\\\\\n",
       "\t  6     & 2893   & 4      & 3.0    & 32312  & 1994   & 699000\\\\\n",
       "\t  4     & 1137   & 3      & 2.0    & 32309  & 1993   & 150000\\\\\n",
       "\t 18     & 1158   & 3      & 2.0    & 32303  & 1993   & 155000\\\\\n",
       "\t 17     & 2533   & 3      & 2.0    & 32310  & 1991   & 365000\\\\\n",
       "\t 19     & 2497   & 4      & 4.0    & 32309  & 1990   & 289000\\\\\n",
       "\t  1     & 2222   & 3      & 3.5    & 32312  & 1981   & 250000\\\\\n",
       "\t  5     & 3560   & 6      & 4.0    & 32309  & 1973   & 315000\\\\\n",
       "\t 12     & 3200   & 5      & 4.0    & 32312  & 1964   & 465000\\\\\n",
       "\t 14     & 1128   & 2      & 1.0    & 32303  & 1955   &  89000\\\\\n",
       "\t  3     & 3824   & 5      & 4.0    & 32312  & 1954   & 399000\\\\\n",
       "\\end{tabular}\n"
      ],
      "text/markdown": [
       "\n",
       "| Index | Living Space (sq ft) | Beds | Baths | Zip | Year | List Price ($) |\n",
       "|---|---|---|---|---|---|---|\n",
       "|  8     | 2483   | 4      | 3.0    | 32312  | 2016   | 399000 |\n",
       "| 11     | 2097   | 4      | 3.0    | 32311  | 2016   | 290000 |\n",
       "|  2     | 1628   | 3      | 2.0    | 32308  | 2009   | 185000 |\n",
       "| 16     | 4242   | 4      | 5.0    | 32303  | 2007   | 569000 |\n",
       "| 10     | 1997   | 3      | 3.0    | 32311  | 2006   | 295000 |\n",
       "| 15     | 1381   | 3      | 2.0    | 32301  | 2006   | 143000 |\n",
       "| 13     | 4892   | 5      | 6.0    | 32311  | 2005   | 799900 |\n",
       "|  9     | 2400   | 4      | 4.0    | 32312  | 2002   | 613000 |\n",
       "| 20     | 4010   | 5      | 3.0    | 32309  | 2002   | 549900 |\n",
       "|  7     | 3631   | 4      | 3.0    | 32309  | 1996   | 649000 |\n",
       "|  6     | 2893   | 4      | 3.0    | 32312  | 1994   | 699000 |\n",
       "|  4     | 1137   | 3      | 2.0    | 32309  | 1993   | 150000 |\n",
       "| 18     | 1158   | 3      | 2.0    | 32303  | 1993   | 155000 |\n",
       "| 17     | 2533   | 3      | 2.0    | 32310  | 1991   | 365000 |\n",
       "| 19     | 2497   | 4      | 4.0    | 32309  | 1990   | 289000 |\n",
       "|  1     | 2222   | 3      | 3.5    | 32312  | 1981   | 250000 |\n",
       "|  5     | 3560   | 6      | 4.0    | 32309  | 1973   | 315000 |\n",
       "| 12     | 3200   | 5      | 4.0    | 32312  | 1964   | 465000 |\n",
       "| 14     | 1128   | 2      | 1.0    | 32303  | 1955   |  89000 |\n",
       "|  3     | 3824   | 5      | 4.0    | 32312  | 1954   | 399000 |\n",
       "\n"
      ],
      "text/plain": [
       "   Index Living Space (sq ft) Beds Baths Zip   Year List Price ($)\n",
       "1   8    2483                 4    3.0   32312 2016 399000        \n",
       "2  11    2097                 4    3.0   32311 2016 290000        \n",
       "3   2    1628                 3    2.0   32308 2009 185000        \n",
       "4  16    4242                 4    5.0   32303 2007 569000        \n",
       "5  10    1997                 3    3.0   32311 2006 295000        \n",
       "6  15    1381                 3    2.0   32301 2006 143000        \n",
       "7  13    4892                 5    6.0   32311 2005 799900        \n",
       "8   9    2400                 4    4.0   32312 2002 613000        \n",
       "9  20    4010                 5    3.0   32309 2002 549900        \n",
       "10  7    3631                 4    3.0   32309 1996 649000        \n",
       "11  6    2893                 4    3.0   32312 1994 699000        \n",
       "12  4    1137                 3    2.0   32309 1993 150000        \n",
       "13 18    1158                 3    2.0   32303 1993 155000        \n",
       "14 17    2533                 3    2.0   32310 1991 365000        \n",
       "15 19    2497                 4    4.0   32309 1990 289000        \n",
       "16  1    2222                 3    3.5   32312 1981 250000        \n",
       "17  5    3560                 6    4.0   32309 1973 315000        \n",
       "18 12    3200                 5    4.0   32312 1964 465000        \n",
       "19 14    1128                 2    1.0   32303 1955  89000        \n",
       "20  3    3824                 5    4.0   32312 1954 399000        "
      ]
     },
     "metadata": {},
     "output_type": "display_data"
    }
   ],
   "source": [
    "#arrange Year by Descending Order\n",
    "zillow_data %>% arrange(desc(Year))"
   ]
  },
  {
   "cell_type": "code",
   "execution_count": null,
   "metadata": {},
   "outputs": [],
   "source": []
  }
 ],
 "metadata": {
  "kernelspec": {
   "display_name": "R",
   "language": "R",
   "name": "ir"
  },
  "language_info": {
   "codemirror_mode": "r",
   "file_extension": ".r",
   "mimetype": "text/x-r-source",
   "name": "R",
   "pygments_lexer": "r",
   "version": "3.6.1"
  }
 },
 "nbformat": 4,
 "nbformat_minor": 4
}
